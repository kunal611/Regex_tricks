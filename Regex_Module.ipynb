{
  "nbformat": 4,
  "nbformat_minor": 0,
  "metadata": {
    "colab": {
      "provenance": [],
      "authorship_tag": "ABX9TyNbpK1KzXSi628I5J5L7Off",
      "include_colab_link": true
    },
    "kernelspec": {
      "name": "python3",
      "display_name": "Python 3"
    },
    "language_info": {
      "name": "python"
    }
  },
  "cells": [
    {
      "cell_type": "markdown",
      "metadata": {
        "id": "view-in-github",
        "colab_type": "text"
      },
      "source": [
        "<a href=\"https://colab.research.google.com/github/kunal611/Regex_tricks/blob/main/Regex_Module.ipynb\" target=\"_parent\"><img src=\"https://colab.research.google.com/assets/colab-badge.svg\" alt=\"Open In Colab\"/></a>"
      ]
    },
    {
      "cell_type": "code",
      "execution_count": null,
      "metadata": {
        "id": "SvDDebSzfJNr"
      },
      "outputs": [],
      "source": [
        "import re"
      ]
    },
    {
      "cell_type": "code",
      "source": [
        "print(\"hello\\nworld\")"
      ],
      "metadata": {
        "colab": {
          "base_uri": "https://localhost:8080/"
        },
        "id": "-f81dDLGfOH5",
        "outputId": "77b20804-9cb7-43f6-ffc3-b534bed63d22"
      },
      "execution_count": null,
      "outputs": [
        {
          "output_type": "stream",
          "name": "stdout",
          "text": [
            "hello\n",
            "world\n"
          ]
        }
      ]
    },
    {
      "cell_type": "code",
      "source": [
        "txt='''\n",
        "C:\\Windows\n",
        "C:\\Python\n",
        "C:\\Windows\\System32\n",
        "'''"
      ],
      "metadata": {
        "id": "r5kTcR1TgXAo"
      },
      "execution_count": null,
      "outputs": []
    },
    {
      "cell_type": "code",
      "source": [
        "print(r\"hello\\nworld\")"
      ],
      "metadata": {
        "colab": {
          "base_uri": "https://localhost:8080/"
        },
        "id": "-fDDkGQRfOMN",
        "outputId": "4f225ab1-c731-49c5-9c6b-88651f8784ce"
      },
      "execution_count": null,
      "outputs": [
        {
          "output_type": "stream",
          "name": "stdout",
          "text": [
            "hello\\nworld\n"
          ]
        }
      ]
    },
    {
      "cell_type": "code",
      "source": [
        "pattern=re.compile(r\"C:\\\\Windows\\\\System32\")"
      ],
      "metadata": {
        "id": "T3r3YTF1fOPk"
      },
      "execution_count": null,
      "outputs": []
    },
    {
      "cell_type": "markdown",
      "source": [
        "# Do we really read to use 2 backlashes ?"
      ],
      "metadata": {
        "id": "7cXf898NfrMz"
      }
    },
    {
      "cell_type": "code",
      "source": [
        "re.escape(\"C:\\Windows\\System32\")"
      ],
      "metadata": {
        "colab": {
          "base_uri": "https://localhost:8080/",
          "height": 36
        },
        "id": "z1pKXBIrf0m7",
        "outputId": "699d0fe2-459e-40ae-e4dd-b74e1ca363f5"
      },
      "execution_count": null,
      "outputs": [
        {
          "output_type": "execute_result",
          "data": {
            "text/plain": [
              "'C:\\\\\\\\Windows\\\\\\\\System32'"
            ],
            "application/vnd.google.colaboratory.intrinsic+json": {
              "type": "string"
            }
          },
          "metadata": {},
          "execution_count": 314
        }
      ]
    },
    {
      "cell_type": "code",
      "source": [
        "re.search(re.escape(\"C:\\Windows\\System32\"),txt)"
      ],
      "metadata": {
        "colab": {
          "base_uri": "https://localhost:8080/"
        },
        "id": "eskjdqakf0qE",
        "outputId": "5f2a8136-1abb-4923-f72b-d25ce2dd2718"
      },
      "execution_count": null,
      "outputs": [
        {
          "output_type": "execute_result",
          "data": {
            "text/plain": [
              "<re.Match object; span=(22, 41), match='C:\\\\Windows\\\\System32'>"
            ]
          },
          "metadata": {},
          "execution_count": 315
        }
      ]
    },
    {
      "cell_type": "code",
      "source": [
        "txt1='''2018,2019,2007,1993'''"
      ],
      "metadata": {
        "id": "_FtHSiPmf0u-"
      },
      "execution_count": null,
      "outputs": []
    },
    {
      "cell_type": "code",
      "source": [
        "pattern=re.compile(\"[1-9][0-9][0-9][0-9]\")"
      ],
      "metadata": {
        "id": "yvMgSHvPf0yl"
      },
      "execution_count": null,
      "outputs": []
    },
    {
      "cell_type": "code",
      "source": [
        "pattern.findall(txt1)"
      ],
      "metadata": {
        "colab": {
          "base_uri": "https://localhost:8080/"
        },
        "id": "rNIzNK65iZ4-",
        "outputId": "8633f3fd-5575-49c3-8dc3-f9d06839e5ed"
      },
      "execution_count": null,
      "outputs": [
        {
          "output_type": "execute_result",
          "data": {
            "text/plain": [
              "['2018', '2019', '2007', '1993']"
            ]
          },
          "metadata": {},
          "execution_count": 318
        }
      ]
    },
    {
      "cell_type": "code",
      "source": [
        "txt2='''license,licence,license,license'''"
      ],
      "metadata": {
        "id": "_CWh-gQ1imcG"
      },
      "execution_count": null,
      "outputs": []
    },
    {
      "cell_type": "code",
      "source": [
        "pattern=re.compile(\"licen[cs]e\")"
      ],
      "metadata": {
        "id": "168pz9cmitfT"
      },
      "execution_count": null,
      "outputs": []
    },
    {
      "cell_type": "code",
      "source": [
        "pattern.findall(txt2)"
      ],
      "metadata": {
        "colab": {
          "base_uri": "https://localhost:8080/"
        },
        "id": "Rlfx0qLKitkz",
        "outputId": "7f7248b4-34e7-4f36-f5e5-fae9e0bf77ab"
      },
      "execution_count": null,
      "outputs": [
        {
          "output_type": "execute_result",
          "data": {
            "text/plain": [
              "['license', 'licence', 'license', 'license']"
            ]
          },
          "metadata": {},
          "execution_count": 321
        }
      ]
    },
    {
      "cell_type": "code",
      "source": [
        "pattern=re.compile(\"[^aeiou]\")"
      ],
      "metadata": {
        "id": "xqKXb9Xlitpi"
      },
      "execution_count": null,
      "outputs": []
    },
    {
      "cell_type": "code",
      "source": [
        "pattern.findall(txt2)"
      ],
      "metadata": {
        "colab": {
          "base_uri": "https://localhost:8080/"
        },
        "id": "6ywQKHaTjHFF",
        "outputId": "1229f2fa-7d0e-487e-fc26-35d420bed0aa"
      },
      "execution_count": null,
      "outputs": [
        {
          "output_type": "execute_result",
          "data": {
            "text/plain": [
              "['l',\n",
              " 'c',\n",
              " 'n',\n",
              " 's',\n",
              " ',',\n",
              " 'l',\n",
              " 'c',\n",
              " 'n',\n",
              " 'c',\n",
              " ',',\n",
              " 'l',\n",
              " 'c',\n",
              " 'n',\n",
              " 's',\n",
              " ',',\n",
              " 'l',\n",
              " 'c',\n",
              " 'n',\n",
              " 's']"
            ]
          },
          "metadata": {},
          "execution_count": 323
        }
      ]
    },
    {
      "cell_type": "code",
      "source": [
        "print(\"\".join(pattern.findall(txt2)))"
      ],
      "metadata": {
        "colab": {
          "base_uri": "https://localhost:8080/"
        },
        "id": "1JhDozudjVKZ",
        "outputId": "0e00d594-6feb-45ba-aae0-bdb4b1dc9530"
      },
      "execution_count": null,
      "outputs": [
        {
          "output_type": "stream",
          "name": "stdout",
          "text": [
            "lcns,lcnc,lcns,lcns\n"
          ]
        }
      ]
    },
    {
      "cell_type": "markdown",
      "source": [
        "# Predefined charater classes \".\", \"\\d\", \"\\D\", \"\\s\", \"\\S\", \"\\w\", \"\\W\""
      ],
      "metadata": {
        "id": "GtF7FMZjk4DA"
      }
    },
    {
      "cell_type": "code",
      "source": [
        "txt1"
      ],
      "metadata": {
        "colab": {
          "base_uri": "https://localhost:8080/",
          "height": 36
        },
        "id": "SX2UnKGHjVNA",
        "outputId": "8976f947-a70c-47a3-d714-be6d782af86b"
      },
      "execution_count": null,
      "outputs": [
        {
          "output_type": "execute_result",
          "data": {
            "text/plain": [
              "'2018,2019,2007,1993'"
            ],
            "application/vnd.google.colaboratory.intrinsic+json": {
              "type": "string"
            }
          },
          "metadata": {},
          "execution_count": 325
        }
      ]
    },
    {
      "cell_type": "code",
      "source": [
        "pattern=re.compile(\"[1-9]\\d\\d\\d\")"
      ],
      "metadata": {
        "id": "rLHfDJGWj-_m"
      },
      "execution_count": null,
      "outputs": []
    },
    {
      "cell_type": "code",
      "source": [
        "pattern.findall(txt1)"
      ],
      "metadata": {
        "colab": {
          "base_uri": "https://localhost:8080/"
        },
        "id": "bt1HZTPwj_Da",
        "outputId": "f33b95a2-70a8-47f1-8648-c31e57c1ec2f"
      },
      "execution_count": null,
      "outputs": [
        {
          "output_type": "execute_result",
          "data": {
            "text/plain": [
              "['2018', '2019', '2007', '1993']"
            ]
          },
          "metadata": {},
          "execution_count": 327
        }
      ]
    },
    {
      "cell_type": "code",
      "source": [
        "pattern=re.compile(\"[^\\w\\s]\") # non alphanumeric and non whitespace characters result is excluding them"
      ],
      "metadata": {
        "id": "6pOHnqGskRZS"
      },
      "execution_count": null,
      "outputs": []
    },
    {
      "cell_type": "code",
      "source": [
        "pattern.findall(txt1)"
      ],
      "metadata": {
        "colab": {
          "base_uri": "https://localhost:8080/"
        },
        "id": "sa-NsZAPkauJ",
        "outputId": "88c00e25-12cc-4493-95cc-397274a3451e"
      },
      "execution_count": null,
      "outputs": [
        {
          "output_type": "execute_result",
          "data": {
            "text/plain": [
              "[',', ',', ',']"
            ]
          },
          "metadata": {},
          "execution_count": 329
        }
      ]
    },
    {
      "cell_type": "markdown",
      "source": [
        "# Alteration - and, or, the USING | pipe symbol"
      ],
      "metadata": {
        "id": "LV86GnIjldJD"
      }
    },
    {
      "cell_type": "code",
      "source": [
        "txt3='''the most common conjunctions are and, or and but.'''"
      ],
      "metadata": {
        "id": "WHyUDJgNkt25"
      },
      "execution_count": null,
      "outputs": []
    },
    {
      "cell_type": "code",
      "source": [
        "pattern=re.compile(\"and|or|the\") # either and, either or, either the."
      ],
      "metadata": {
        "id": "tkHJbfc2kuRw"
      },
      "execution_count": null,
      "outputs": []
    },
    {
      "cell_type": "code",
      "source": [
        "pattern.findall(txt3)"
      ],
      "metadata": {
        "colab": {
          "base_uri": "https://localhost:8080/"
        },
        "id": "q8_yN_TokuVI",
        "outputId": "717223f4-3841-4911-ac5a-971803b08935"
      },
      "execution_count": null,
      "outputs": [
        {
          "output_type": "execute_result",
          "data": {
            "text/plain": [
              "['the', 'and', 'or', 'and']"
            ]
          },
          "metadata": {},
          "execution_count": 332
        }
      ]
    },
    {
      "cell_type": "code",
      "source": [
        "txt4='''What is your name? Who is that guy?'''"
      ],
      "metadata": {
        "id": "OPz5qsWEkuYQ"
      },
      "execution_count": null,
      "outputs": []
    },
    {
      "cell_type": "code",
      "source": [
        "pattern=re.compile(\"What|Who is\")"
      ],
      "metadata": {
        "id": "q2-DYJxzkua_"
      },
      "execution_count": null,
      "outputs": []
    },
    {
      "cell_type": "code",
      "source": [
        "pattern.findall(txt4)"
      ],
      "metadata": {
        "colab": {
          "base_uri": "https://localhost:8080/"
        },
        "id": "OFe_6FOhkuf5",
        "outputId": "c889670b-1b6e-47eb-bc74-1d5e90fc47c3"
      },
      "execution_count": null,
      "outputs": [
        {
          "output_type": "execute_result",
          "data": {
            "text/plain": [
              "['What', 'Who is']"
            ]
          },
          "metadata": {},
          "execution_count": 335
        }
      ]
    },
    {
      "cell_type": "code",
      "source": [
        "pattern=re.compile(\"(What|Who) is\")"
      ],
      "metadata": {
        "id": "9fQohhp0kujF"
      },
      "execution_count": null,
      "outputs": []
    },
    {
      "cell_type": "code",
      "source": [
        "pattern.findall(txt4)"
      ],
      "metadata": {
        "colab": {
          "base_uri": "https://localhost:8080/"
        },
        "id": "icPJna-gkunA",
        "outputId": "050fad38-d57d-4768-889f-5a09071763e2"
      },
      "execution_count": null,
      "outputs": [
        {
          "output_type": "execute_result",
          "data": {
            "text/plain": [
              "['What', 'Who']"
            ]
          },
          "metadata": {},
          "execution_count": 337
        }
      ]
    },
    {
      "cell_type": "markdown",
      "source": [
        "# Quantifiers ? ,* ,+,{}"
      ],
      "metadata": {
        "id": "BIMXimEvneEg"
      }
    },
    {
      "cell_type": "code",
      "source": [
        "txt5=''' I have 2 dogs.One dog is 1 year old and the one is 2 years old. Both dogs are very cute! '''"
      ],
      "metadata": {
        "id": "GM4jKxNEkur7"
      },
      "execution_count": null,
      "outputs": []
    },
    {
      "cell_type": "code",
      "source": [
        "pattern= re.compile(\"dogs?\") # s can be 0 or 1 time that y ? is used"
      ],
      "metadata": {
        "id": "lwzA96w5pdA1"
      },
      "execution_count": null,
      "outputs": []
    },
    {
      "cell_type": "code",
      "source": [
        "pattern.findall(txt5)"
      ],
      "metadata": {
        "colab": {
          "base_uri": "https://localhost:8080/"
        },
        "id": "GC5lVy7wpoMt",
        "outputId": "faf7d8eb-b57e-484b-d678-28724fad2585"
      },
      "execution_count": null,
      "outputs": [
        {
          "output_type": "execute_result",
          "data": {
            "text/plain": [
              "['dogs', 'dog', 'dogs']"
            ]
          },
          "metadata": {},
          "execution_count": 340
        }
      ]
    },
    {
      "cell_type": "code",
      "source": [
        "txt6='''file1.txt\n",
        "file_one.txt\n",
        "file.txt\n",
        "fil.txt\n",
        "file.xml\n",
        "file12345.txt\n",
        "'''"
      ],
      "metadata": {
        "id": "PgPKgiiTpoPm"
      },
      "execution_count": null,
      "outputs": []
    },
    {
      "cell_type": "code",
      "source": [
        "pattern=re.compile(\"file\\w*\\.txt\")"
      ],
      "metadata": {
        "id": "gnoyH951qiXB"
      },
      "execution_count": null,
      "outputs": []
    },
    {
      "cell_type": "code",
      "source": [
        "pattern.findall(txt6)"
      ],
      "metadata": {
        "colab": {
          "base_uri": "https://localhost:8080/"
        },
        "id": "wJGCZ5DxpoTC",
        "outputId": "d3599236-78a2-4f15-a541-6b1727f31d74"
      },
      "execution_count": null,
      "outputs": [
        {
          "output_type": "execute_result",
          "data": {
            "text/plain": [
              "['file1.txt', 'file_one.txt', 'file.txt', 'file12345.txt']"
            ]
          },
          "metadata": {},
          "execution_count": 343
        }
      ]
    },
    {
      "cell_type": "code",
      "source": [
        "pattern=re.compile(\"file\\d+\\.txt\") # one or more numerics"
      ],
      "metadata": {
        "id": "1hwM8kOUrzlt"
      },
      "execution_count": null,
      "outputs": []
    },
    {
      "cell_type": "code",
      "source": [
        "pattern.findall(txt6)"
      ],
      "metadata": {
        "colab": {
          "base_uri": "https://localhost:8080/"
        },
        "id": "ywHiTUYErzps",
        "outputId": "28b8a57a-20cf-4cd8-8ee6-d473450c6106"
      },
      "execution_count": null,
      "outputs": [
        {
          "output_type": "execute_result",
          "data": {
            "text/plain": [
              "['file1.txt', 'file12345.txt']"
            ]
          },
          "metadata": {},
          "execution_count": 345
        }
      ]
    },
    {
      "cell_type": "code",
      "source": [
        "txt1"
      ],
      "metadata": {
        "colab": {
          "base_uri": "https://localhost:8080/",
          "height": 36
        },
        "id": "O92LNlkUrztv",
        "outputId": "acc10c49-381c-4872-818c-1cae352ac8a1"
      },
      "execution_count": null,
      "outputs": [
        {
          "output_type": "execute_result",
          "data": {
            "text/plain": [
              "'2018,2019,2007,1993'"
            ],
            "application/vnd.google.colaboratory.intrinsic+json": {
              "type": "string"
            }
          },
          "metadata": {},
          "execution_count": 346
        }
      ]
    },
    {
      "cell_type": "code",
      "source": [
        "pattern=re.compile(\"[0-9]\\d{3}\")"
      ],
      "metadata": {
        "id": "R5pKmDNtsdUQ"
      },
      "execution_count": null,
      "outputs": []
    },
    {
      "cell_type": "code",
      "source": [
        "pattern.findall(txt1)"
      ],
      "metadata": {
        "colab": {
          "base_uri": "https://localhost:8080/"
        },
        "id": "9OecOTvDsmzR",
        "outputId": "663714ff-4274-4d7e-8773-5359165afcd2"
      },
      "execution_count": null,
      "outputs": [
        {
          "output_type": "execute_result",
          "data": {
            "text/plain": [
              "['2018', '2019', '2007', '1993']"
            ]
          },
          "metadata": {},
          "execution_count": 348
        }
      ]
    },
    {
      "cell_type": "code",
      "source": [
        "txt7='''123143\n",
        "432\n",
        "5657\n",
        "4435\n",
        "54\n",
        "65111'''"
      ],
      "metadata": {
        "id": "w43XAujPstQU"
      },
      "execution_count": null,
      "outputs": []
    },
    {
      "cell_type": "code",
      "source": [
        "pattern=re.compile(\"\\d{4,}\") # four or more"
      ],
      "metadata": {
        "id": "9IkobcX3s02L"
      },
      "execution_count": null,
      "outputs": []
    },
    {
      "cell_type": "code",
      "source": [
        "pattern.findall(txt7)"
      ],
      "metadata": {
        "colab": {
          "base_uri": "https://localhost:8080/"
        },
        "id": "dpkwkjsqs05N",
        "outputId": "8990a653-f6e7-4709-f165-182fc6df742f"
      },
      "execution_count": null,
      "outputs": [
        {
          "output_type": "execute_result",
          "data": {
            "text/plain": [
              "['123143', '5657', '4435', '65111']"
            ]
          },
          "metadata": {},
          "execution_count": 351
        }
      ]
    },
    {
      "cell_type": "code",
      "source": [
        "pattern=re.compile(\"\\d{1,4}\")"
      ],
      "metadata": {
        "id": "XxPUn0yrs08O"
      },
      "execution_count": null,
      "outputs": []
    },
    {
      "cell_type": "code",
      "source": [
        "pattern.findall(txt7)"
      ],
      "metadata": {
        "colab": {
          "base_uri": "https://localhost:8080/"
        },
        "id": "pI0GyXSes1AO",
        "outputId": "b2d17e28-be4a-413b-910a-2e40d899d8f3"
      },
      "execution_count": null,
      "outputs": [
        {
          "output_type": "execute_result",
          "data": {
            "text/plain": [
              "['1231', '43', '432', '5657', '4435', '54', '6511', '1']"
            ]
          },
          "metadata": {},
          "execution_count": 353
        }
      ]
    },
    {
      "cell_type": "code",
      "source": [
        "txt8='''555-555-5555\n",
        "555 555 5555\n",
        "5555555555\n",
        "'''"
      ],
      "metadata": {
        "id": "acNWelNCs1DY"
      },
      "execution_count": null,
      "outputs": []
    },
    {
      "cell_type": "code",
      "source": [
        "pattern=re.compile(\"\\d{3}[\\s-]?\\d{3}[\\s-]?\\d{4}\")"
      ],
      "metadata": {
        "id": "TymOpEZMs1He"
      },
      "execution_count": null,
      "outputs": []
    },
    {
      "cell_type": "code",
      "source": [
        "pattern.findall(txt8)"
      ],
      "metadata": {
        "colab": {
          "base_uri": "https://localhost:8080/"
        },
        "id": "gblhJSjgs1Lj",
        "outputId": "95499551-a685-42aa-9640-21cedb0afaaf"
      },
      "execution_count": null,
      "outputs": [
        {
          "output_type": "execute_result",
          "data": {
            "text/plain": [
              "['555-555-5555', '555 555 5555', '5555555555']"
            ]
          },
          "metadata": {},
          "execution_count": 356
        }
      ]
    },
    {
      "cell_type": "markdown",
      "source": [
        "# QUANTIFIERS GREEDY AND NON GREEDY"
      ],
      "metadata": {
        "id": "6RpdoydH45YU"
      }
    },
    {
      "cell_type": "code",
      "source": [
        "txt9='''<html><head><title>Title</title>'''"
      ],
      "metadata": {
        "id": "Q43OrSBKs1Nt"
      },
      "execution_count": null,
      "outputs": []
    },
    {
      "cell_type": "code",
      "source": [
        "pattern = re.compile(\"<.*>\")"
      ],
      "metadata": {
        "id": "b2L9x8bA5R78"
      },
      "execution_count": null,
      "outputs": []
    },
    {
      "cell_type": "code",
      "source": [
        "pattern.findall(txt9) # Greedy Behaviour"
      ],
      "metadata": {
        "colab": {
          "base_uri": "https://localhost:8080/"
        },
        "id": "HFx_VUvn5FWU",
        "outputId": "644aebd1-3048-4a69-f8a6-eb11457ed03e"
      },
      "execution_count": null,
      "outputs": [
        {
          "output_type": "execute_result",
          "data": {
            "text/plain": [
              "['<html><head><title>Title</title>']"
            ]
          },
          "metadata": {},
          "execution_count": 359
        }
      ]
    },
    {
      "cell_type": "code",
      "source": [
        "pattern = re.compile(\"<.*?>\")"
      ],
      "metadata": {
        "id": "ko0fDOP85FaA"
      },
      "execution_count": null,
      "outputs": []
    },
    {
      "cell_type": "code",
      "source": [
        "pattern.findall(txt9) # Non-Greedy Behaviour"
      ],
      "metadata": {
        "colab": {
          "base_uri": "https://localhost:8080/"
        },
        "id": "I1SznYuo5FeQ",
        "outputId": "5c430da3-14de-4267-a942-e4cddc1e3d7f"
      },
      "execution_count": null,
      "outputs": [
        {
          "output_type": "execute_result",
          "data": {
            "text/plain": [
              "['<html>', '<head>', '<title>', '</title>']"
            ]
          },
          "metadata": {},
          "execution_count": 361
        }
      ]
    },
    {
      "cell_type": "markdown",
      "source": [
        "# BOUNDARY MATCHERS"
      ],
      "metadata": {
        "id": "BZvY83tg6YvQ"
      }
    },
    {
      "cell_type": "code",
      "source": [
        "txt10='''Lorem ipsum standard scrambled more and or the'''"
      ],
      "metadata": {
        "id": "Qwyhmj196dIN"
      },
      "execution_count": null,
      "outputs": []
    },
    {
      "cell_type": "code",
      "source": [
        "pattern=re.compile(\"and|or|the\")"
      ],
      "metadata": {
        "id": "9UZ1q2lh6dMn"
      },
      "execution_count": null,
      "outputs": []
    },
    {
      "cell_type": "code",
      "source": [
        "pattern.findall(txt10) # its considering the or present in word \"standard\" or in \"Lorem\""
      ],
      "metadata": {
        "colab": {
          "base_uri": "https://localhost:8080/"
        },
        "id": "UspPwxlk6dTf",
        "outputId": "d575ead3-761b-4921-e491-e6acb4543fbe"
      },
      "execution_count": null,
      "outputs": [
        {
          "output_type": "execute_result",
          "data": {
            "text/plain": [
              "['or', 'and', 'or', 'and', 'or', 'the']"
            ]
          },
          "metadata": {},
          "execution_count": 364
        }
      ]
    },
    {
      "cell_type": "code",
      "source": [
        "pattern=re.compile(\"\\\\b(and|or|the)\\\\b\")"
      ],
      "metadata": {
        "id": "x9WmHBfk8MDB"
      },
      "execution_count": null,
      "outputs": []
    },
    {
      "cell_type": "code",
      "source": [
        "pattern.findall(txt10) # Considering just the word and or the"
      ],
      "metadata": {
        "colab": {
          "base_uri": "https://localhost:8080/"
        },
        "id": "1QQBO1Vg8V5A",
        "outputId": "f7340a8a-6653-40ad-c165-99fb4903804d"
      },
      "execution_count": null,
      "outputs": [
        {
          "output_type": "execute_result",
          "data": {
            "text/plain": [
              "['and', 'or', 'the']"
            ]
          },
          "metadata": {},
          "execution_count": 366
        }
      ]
    },
    {
      "cell_type": "code",
      "source": [
        "txt11='''\n",
        "Name:\n",
        "Age: 0\n",
        "Roll No.:15\n",
        "Grade: S\n",
        "\n",
        "Name: Ravi\n",
        "Age: 0\n",
        "Roll No.: 123 Name: ABC\n",
        "Grade: K\n",
        "\n",
        "Name: Ram\n",
        "Age: N/A\n",
        "Roll No.: 1\n",
        "Grade: G\n",
        "'''"
      ],
      "metadata": {
        "id": "xdY4Lo2aE1Tu"
      },
      "execution_count": null,
      "outputs": []
    },
    {
      "cell_type": "code",
      "source": [
        "pattern = re.compile(\"Name:\") # re.M (re.multiline)"
      ],
      "metadata": {
        "id": "-0XD-GvyFcAb"
      },
      "execution_count": null,
      "outputs": []
    },
    {
      "cell_type": "code",
      "source": [
        "pattern.findall(txt11)"
      ],
      "metadata": {
        "colab": {
          "base_uri": "https://localhost:8080/"
        },
        "id": "WSqNOiEYFn2w",
        "outputId": "ee2615ee-a6c5-4851-db00-32022cf99d10"
      },
      "execution_count": null,
      "outputs": [
        {
          "output_type": "execute_result",
          "data": {
            "text/plain": [
              "['Name:', 'Name:', 'Name:', 'Name:']"
            ]
          },
          "metadata": {},
          "execution_count": 369
        }
      ]
    },
    {
      "cell_type": "code",
      "source": [
        "pattern = re.compile(\"^Name:\",flags=re.M) # re.M (re.multiline)"
      ],
      "metadata": {
        "id": "XA0rCPRkHIxn"
      },
      "execution_count": null,
      "outputs": []
    },
    {
      "cell_type": "code",
      "source": [
        "pattern.findall(txt11) # only in the beginning"
      ],
      "metadata": {
        "colab": {
          "base_uri": "https://localhost:8080/"
        },
        "id": "QKPl2zA5IgZs",
        "outputId": "7fd36d54-106f-4307-fa7c-dfa61cf978f0"
      },
      "execution_count": null,
      "outputs": [
        {
          "output_type": "execute_result",
          "data": {
            "text/plain": [
              "['Name:', 'Name:', 'Name:']"
            ]
          },
          "metadata": {},
          "execution_count": 371
        }
      ]
    },
    {
      "cell_type": "code",
      "source": [
        "pattern = re.compile(\"^Name:.*\",flags=re.M) # how to get complete line"
      ],
      "metadata": {
        "id": "8ClegRQUIgei"
      },
      "execution_count": null,
      "outputs": []
    },
    {
      "cell_type": "code",
      "source": [
        "pattern.findall(txt11)"
      ],
      "metadata": {
        "colab": {
          "base_uri": "https://localhost:8080/"
        },
        "id": "9yqOtKoiI0Sw",
        "outputId": "d2514ced-926c-4195-b1c4-7c6dff374e30"
      },
      "execution_count": null,
      "outputs": [
        {
          "output_type": "execute_result",
          "data": {
            "text/plain": [
              "['Name:', 'Name: Ravi', 'Name: Ram']"
            ]
          },
          "metadata": {},
          "execution_count": 373
        }
      ]
    },
    {
      "cell_type": "code",
      "source": [
        "txt12='''Lorem Ipsum has been in the industry  since the 1500s!\n",
        "It was popularised in the 1960s!\n",
        "lorem ipsum is simply dummy text of the printing and typesetting industry.'''\n"
      ],
      "metadata": {
        "id": "AqSwfENeKAV8"
      },
      "execution_count": null,
      "outputs": []
    },
    {
      "cell_type": "code",
      "source": [
        "pattern=re.compile(\"^.*[^\\.]$\", flags=re.M) # only lines where there is no full stop [^\\.]$ and multiple line re.M"
      ],
      "metadata": {
        "id": "7pxkwHyiK57e"
      },
      "execution_count": null,
      "outputs": []
    },
    {
      "cell_type": "code",
      "source": [
        "pattern.findall(txt12)"
      ],
      "metadata": {
        "colab": {
          "base_uri": "https://localhost:8080/"
        },
        "id": "tr-_GFdHLFmg",
        "outputId": "705331d6-76c7-4586-94a7-78b19c87e20f"
      },
      "execution_count": null,
      "outputs": [
        {
          "output_type": "execute_result",
          "data": {
            "text/plain": [
              "['Lorem Ipsum has been in the industry  since the 1500s!',\n",
              " 'It was popularised in the 1960s!']"
            ]
          },
          "metadata": {},
          "execution_count": 376
        }
      ]
    },
    {
      "cell_type": "markdown",
      "source": [
        "# SPLITTING"
      ],
      "metadata": {
        "id": "XiopAFZOLmwU"
      }
    },
    {
      "cell_type": "code",
      "source": [
        "txt13='''Beautiful is better than ugly.\n",
        "Explicit is better than implicit.\n",
        "Simple is better than complex.\n",
        "Complex is better than complicated.'''"
      ],
      "metadata": {
        "id": "kH7qrawmLcRR"
      },
      "execution_count": null,
      "outputs": []
    },
    {
      "cell_type": "code",
      "source": [
        "pattern=re.compile(\"\\n\")"
      ],
      "metadata": {
        "id": "Mo3ku1arMPVv"
      },
      "execution_count": null,
      "outputs": []
    },
    {
      "cell_type": "code",
      "source": [
        "pattern.split(txt13) # we use re.split function"
      ],
      "metadata": {
        "colab": {
          "base_uri": "https://localhost:8080/"
        },
        "id": "9C9CrVTwMPan",
        "outputId": "8f912035-885a-46a3-e3b1-0a9e8d617cb3"
      },
      "execution_count": null,
      "outputs": [
        {
          "output_type": "execute_result",
          "data": {
            "text/plain": [
              "['Beautiful is better than ugly.',\n",
              " 'Explicit is better than implicit.',\n",
              " 'Simple is better than complex.',\n",
              " 'Complex is better than complicated.']"
            ]
          },
          "metadata": {},
          "execution_count": 379
        }
      ]
    },
    {
      "cell_type": "code",
      "source": [
        "pattern=re.compile(\"\\W\") # Non alphanumeric"
      ],
      "metadata": {
        "id": "FcKFkWUXM1_l"
      },
      "execution_count": null,
      "outputs": []
    },
    {
      "cell_type": "code",
      "source": [
        "list(filter(lambda x: x!=\"\",pattern.split(txt13))) # we eliminate empty spaces using filter and lambda"
      ],
      "metadata": {
        "colab": {
          "base_uri": "https://localhost:8080/"
        },
        "id": "OvJ4lavgM2Dd",
        "outputId": "f40a62f6-0cef-4dbf-c433-39fd8a6106a2"
      },
      "execution_count": null,
      "outputs": [
        {
          "output_type": "execute_result",
          "data": {
            "text/plain": [
              "['Beautiful',\n",
              " 'is',\n",
              " 'better',\n",
              " 'than',\n",
              " 'ugly',\n",
              " 'Explicit',\n",
              " 'is',\n",
              " 'better',\n",
              " 'than',\n",
              " 'implicit',\n",
              " 'Simple',\n",
              " 'is',\n",
              " 'better',\n",
              " 'than',\n",
              " 'complex',\n",
              " 'Complex',\n",
              " 'is',\n",
              " 'better',\n",
              " 'than',\n",
              " 'complicated']"
            ]
          },
          "metadata": {},
          "execution_count": 381
        }
      ]
    },
    {
      "cell_type": "code",
      "source": [
        "pattern.split(txt13,maxsplit=3)"
      ],
      "metadata": {
        "colab": {
          "base_uri": "https://localhost:8080/"
        },
        "id": "Fg2R26eVOHFz",
        "outputId": "d0c646bf-a38c-4b99-c4fd-16adc104b0a8"
      },
      "execution_count": null,
      "outputs": [
        {
          "output_type": "execute_result",
          "data": {
            "text/plain": [
              "['Beautiful',\n",
              " 'is',\n",
              " 'better',\n",
              " 'than ugly.\\nExplicit is better than implicit.\\nSimple is better than complex.\\nComplex is better than complicated.']"
            ]
          },
          "metadata": {},
          "execution_count": 382
        }
      ]
    },
    {
      "cell_type": "markdown",
      "source": [
        "# SUBSTITUTION---->>>> sub(repl,string[,count=0])"
      ],
      "metadata": {
        "id": "Dy5fZ_rTOqh5"
      }
    },
    {
      "cell_type": "code",
      "source": [
        "txt14=\"100 cats, 23 dogs, 3 rabbits\""
      ],
      "metadata": {
        "id": "iOjKe5omM2Hk"
      },
      "execution_count": null,
      "outputs": []
    },
    {
      "cell_type": "code",
      "source": [
        "pattern=re.compile(\"\\d+\")"
      ],
      "metadata": {
        "id": "JSayz-vPVJkn"
      },
      "execution_count": null,
      "outputs": []
    },
    {
      "cell_type": "code",
      "source": [
        "pattern.findall(txt14)"
      ],
      "metadata": {
        "colab": {
          "base_uri": "https://localhost:8080/"
        },
        "id": "-YcGBoCoVP4U",
        "outputId": "446af3cd-db04-4615-a78a-8f0e3d8a1955"
      },
      "execution_count": null,
      "outputs": [
        {
          "output_type": "execute_result",
          "data": {
            "text/plain": [
              "['100', '23', '3']"
            ]
          },
          "metadata": {},
          "execution_count": 385
        }
      ]
    },
    {
      "cell_type": "code",
      "source": [
        "pattern.sub(\"-\",txt14) # we replace it with hypen \"-\""
      ],
      "metadata": {
        "colab": {
          "base_uri": "https://localhost:8080/",
          "height": 36
        },
        "id": "llNAzjVEVg1y",
        "outputId": "63dc8544-8ec0-4af9-92b4-422ab6605d62"
      },
      "execution_count": null,
      "outputs": [
        {
          "output_type": "execute_result",
          "data": {
            "text/plain": [
              "'- cats, - dogs, - rabbits'"
            ],
            "application/vnd.google.colaboratory.intrinsic+json": {
              "type": "string"
            }
          },
          "metadata": {},
          "execution_count": 386
        }
      ]
    },
    {
      "cell_type": "code",
      "source": [
        "pattern.subn(\"-\",txt14)"
      ],
      "metadata": {
        "colab": {
          "base_uri": "https://localhost:8080/"
        },
        "id": "q-9NNNZsWMZd",
        "outputId": "194a76a5-9b5c-4c0e-8e5c-59041af10a50"
      },
      "execution_count": null,
      "outputs": [
        {
          "output_type": "execute_result",
          "data": {
            "text/plain": [
              "('- cats, - dogs, - rabbits', 3)"
            ]
          },
          "metadata": {},
          "execution_count": 387
        }
      ]
    },
    {
      "cell_type": "code",
      "source": [
        "pattern.subn(\"-\",txt14)[0]"
      ],
      "metadata": {
        "colab": {
          "base_uri": "https://localhost:8080/",
          "height": 36
        },
        "id": "CjQrJlXjWMs_",
        "outputId": "218e328a-795c-4284-ab80-268336b30e84"
      },
      "execution_count": null,
      "outputs": [
        {
          "output_type": "execute_result",
          "data": {
            "text/plain": [
              "'- cats, - dogs, - rabbits'"
            ],
            "application/vnd.google.colaboratory.intrinsic+json": {
              "type": "string"
            }
          },
          "metadata": {},
          "execution_count": 388
        }
      ]
    },
    {
      "cell_type": "code",
      "source": [
        "pattern.subn(\"-\",txt14)[1]"
      ],
      "metadata": {
        "colab": {
          "base_uri": "https://localhost:8080/"
        },
        "id": "BsHYecIJWrQX",
        "outputId": "6cd26569-45fc-40a1-cabd-e57cf9390beb"
      },
      "execution_count": null,
      "outputs": [
        {
          "output_type": "execute_result",
          "data": {
            "text/plain": [
              "3"
            ]
          },
          "metadata": {},
          "execution_count": 389
        }
      ]
    },
    {
      "cell_type": "markdown",
      "source": [
        "# COMPLILATION FLAGS"
      ],
      "metadata": {
        "id": "YKaGXZHCgyIC"
      }
    },
    {
      "cell_type": "markdown",
      "source": [
        "### re.IGNORECASE or re.I"
      ],
      "metadata": {
        "id": "KX3cIc7ah9cY"
      }
    },
    {
      "cell_type": "code",
      "source": [
        "txt15='''The best thing about  regex is that it makes the task of string manipulation so easy'''"
      ],
      "metadata": {
        "id": "ZLaubuTNhBs-"
      },
      "execution_count": null,
      "outputs": []
    },
    {
      "cell_type": "code",
      "source": [
        "pattern= re.compile(\"the\", flags=re.I)"
      ],
      "metadata": {
        "id": "OLWe2wzRhBx8"
      },
      "execution_count": null,
      "outputs": []
    },
    {
      "cell_type": "code",
      "source": [
        "pattern.findall(txt15)"
      ],
      "metadata": {
        "colab": {
          "base_uri": "https://localhost:8080/"
        },
        "id": "WdbF5-MbhB2n",
        "outputId": "f95ce8b9-65ff-434a-ad37-4b0c6b8cc896"
      },
      "execution_count": null,
      "outputs": [
        {
          "output_type": "execute_result",
          "data": {
            "text/plain": [
              "['The', 'the']"
            ]
          },
          "metadata": {},
          "execution_count": 392
        }
      ]
    },
    {
      "cell_type": "markdown",
      "source": [
        "### re.MULTILINE or re.M"
      ],
      "metadata": {
        "id": "4xB-O_wyiQuu"
      }
    },
    {
      "cell_type": "code",
      "source": [
        "txt16='''\n",
        "A man was crossing the road.\n",
        "Suddenly, a car passed before him in a very high speed.\n",
        "He was terrified\n",
        "And shocked\n",
        "'''"
      ],
      "metadata": {
        "id": "UaU1AIC7iVuM"
      },
      "execution_count": null,
      "outputs": []
    },
    {
      "cell_type": "code",
      "source": [
        "pattern=re.compile(\"^A.*\",flags=re.M)"
      ],
      "metadata": {
        "id": "JW1D6mwfivx4"
      },
      "execution_count": null,
      "outputs": []
    },
    {
      "cell_type": "code",
      "source": [
        "pattern.findall(txt16)"
      ],
      "metadata": {
        "colab": {
          "base_uri": "https://localhost:8080/"
        },
        "id": "jh3xL58Aiv2A",
        "outputId": "a94d5442-b916-4b14-b675-c25222ae9eea"
      },
      "execution_count": null,
      "outputs": [
        {
          "output_type": "execute_result",
          "data": {
            "text/plain": [
              "['A man was crossing the road.', 'And shocked']"
            ]
          },
          "metadata": {},
          "execution_count": 395
        }
      ]
    },
    {
      "cell_type": "markdown",
      "source": [
        "### re.DOTALL or re.S"
      ],
      "metadata": {
        "id": "NvL5G-mJnu7v"
      }
    },
    {
      "cell_type": "code",
      "source": [
        "txt16='''\n",
        "A man was crossing the road.\n",
        "Suddenly, a car passed before him in a very high speed.\n",
        "He was terrified\n",
        "And shocked\n",
        "'''"
      ],
      "metadata": {
        "id": "zARBa21En1hC"
      },
      "execution_count": null,
      "outputs": []
    },
    {
      "cell_type": "code",
      "source": [
        "pattern=re.compile(\"car.*\",flags=re.S)"
      ],
      "metadata": {
        "id": "VUd4UY4Xn1k-"
      },
      "execution_count": null,
      "outputs": []
    },
    {
      "cell_type": "code",
      "source": [
        "pattern.findall(txt16)"
      ],
      "metadata": {
        "colab": {
          "base_uri": "https://localhost:8080/"
        },
        "id": "BG2UUvSOn15D",
        "outputId": "2a7e3a21-f8fa-47ce-a0e3-8857f997a0de"
      },
      "execution_count": null,
      "outputs": [
        {
          "output_type": "execute_result",
          "data": {
            "text/plain": [
              "['car passed before him in a very high speed.\\nHe was terrified\\nAnd shocked\\n']"
            ]
          },
          "metadata": {},
          "execution_count": 398
        }
      ]
    },
    {
      "cell_type": "code",
      "source": [
        "pattern.search(txt16)"
      ],
      "metadata": {
        "colab": {
          "base_uri": "https://localhost:8080/"
        },
        "id": "GrWvxH4eoSHO",
        "outputId": "fd8be428-dcec-4fdb-bf2e-dba093e19755"
      },
      "execution_count": null,
      "outputs": [
        {
          "output_type": "execute_result",
          "data": {
            "text/plain": [
              "<re.Match object; span=(42, 115), match='car passed before him in a very high speed.\\nHe w>"
            ]
          },
          "metadata": {},
          "execution_count": 399
        }
      ]
    },
    {
      "cell_type": "markdown",
      "source": [
        "### re.UNICODE or re.U"
      ],
      "metadata": {
        "id": "wXZcaDwSoVzE"
      }
    },
    {
      "cell_type": "code",
      "source": [
        "txt17=\"मुझे किताबें पढ़ना पसंद है\""
      ],
      "metadata": {
        "id": "S7BjsIoSoZyt"
      },
      "execution_count": null,
      "outputs": []
    },
    {
      "cell_type": "code",
      "source": [
        "pip install regex"
      ],
      "metadata": {
        "colab": {
          "base_uri": "https://localhost:8080/"
        },
        "id": "7wed1XsOpNZV",
        "outputId": "8f970829-204b-4fc0-e94c-87fe0025fa4e"
      },
      "execution_count": null,
      "outputs": [
        {
          "output_type": "stream",
          "name": "stdout",
          "text": [
            "Requirement already satisfied: regex in /usr/local/lib/python3.10/dist-packages (2022.10.31)\n"
          ]
        }
      ]
    },
    {
      "cell_type": "code",
      "source": [
        "import regex"
      ],
      "metadata": {
        "id": "PLa_K2Tkpj_H"
      },
      "execution_count": null,
      "outputs": []
    },
    {
      "cell_type": "code",
      "source": [
        "pattern=regex.compile(\"\\w+\")"
      ],
      "metadata": {
        "id": "mmls_rp1oZ3f"
      },
      "execution_count": null,
      "outputs": []
    },
    {
      "cell_type": "code",
      "source": [
        "pattern.findall(txt17)"
      ],
      "metadata": {
        "colab": {
          "base_uri": "https://localhost:8080/"
        },
        "id": "X6ivZWsSo8Us",
        "outputId": "9ffa91ff-5602-4ac2-8396-7d3d10979544"
      },
      "execution_count": null,
      "outputs": [
        {
          "output_type": "execute_result",
          "data": {
            "text/plain": [
              "['मुझे', 'किताबें', 'पढ़ना', 'पसंद', 'है']"
            ]
          },
          "metadata": {},
          "execution_count": 404
        }
      ]
    },
    {
      "cell_type": "markdown",
      "source": [
        "### re.LOCALE or re.L"
      ],
      "metadata": {
        "id": "_ntE3M1Wq0I9"
      }
    },
    {
      "cell_type": "markdown",
      "source": [
        "### re.ASCII or re.A"
      ],
      "metadata": {
        "id": "1jlph23QrjgF"
      }
    },
    {
      "cell_type": "code",
      "source": [
        "chars=\"\".join(chr(i) for i in range(256))"
      ],
      "metadata": {
        "id": "iQ4K-ZMCpN6b"
      },
      "execution_count": null,
      "outputs": []
    },
    {
      "cell_type": "code",
      "source": [
        "pattern=re.compile(\"\\w\")"
      ],
      "metadata": {
        "id": "bvricGYCpOFd"
      },
      "execution_count": null,
      "outputs": []
    },
    {
      "cell_type": "code",
      "source": [
        "print(chars)"
      ],
      "metadata": {
        "colab": {
          "base_uri": "https://localhost:8080/"
        },
        "id": "-fFhR7ompN_t",
        "outputId": "ded4434c-dc59-4ab5-e879-350020f00b56"
      },
      "execution_count": null,
      "outputs": [
        {
          "output_type": "stream",
          "name": "stdout",
          "text": [
            "\u0000\u0001\u0002\u0003\u0004\u0005\u0006\u0007\b\t\n",
            "\u000b\f\r\u000e\u000f\u0010\u0011\u0012\u0013\u0014\u0015\u0016\u0017\u0018\u0019\u001a\u001b\u001c\u001d\u001e\u001f !\"#$%&'()*+,-./0123456789:;<=>?@ABCDEFGHIJKLMNOPQRSTUVWXYZ[\\]^_`abcdefghijklmnopqrstuvwxyz{|}~ ¡¢£¤¥¦§¨©ª«¬­®¯°±²³´µ¶·¸¹º»¼½¾¿ÀÁÂÃÄÅÆÇÈÉÊËÌÍÎÏÐÑÒÓÔÕÖ×ØÙÚÛÜÝÞßàáâãäåæçèéêëìíîïðñòóôõö÷øùúûüýþÿ\n"
          ]
        }
      ]
    },
    {
      "cell_type": "code",
      "source": [
        "pattern"
      ],
      "metadata": {
        "colab": {
          "base_uri": "https://localhost:8080/"
        },
        "id": "V76IsAAYsHK4",
        "outputId": "2cf0b7a2-1146-4ff3-9b81-d1803aef59ab"
      },
      "execution_count": null,
      "outputs": [
        {
          "output_type": "execute_result",
          "data": {
            "text/plain": [
              "re.compile(r'\\w', re.UNICODE)"
            ]
          },
          "metadata": {},
          "execution_count": 408
        }
      ]
    },
    {
      "cell_type": "code",
      "source": [
        "pattern=re.compile(\"\\w\",flags=re.A)"
      ],
      "metadata": {
        "id": "CTExvqXtsHQS"
      },
      "execution_count": null,
      "outputs": []
    },
    {
      "cell_type": "code",
      "source": [
        "pattern"
      ],
      "metadata": {
        "colab": {
          "base_uri": "https://localhost:8080/"
        },
        "id": "aLu5pp3KsHVO",
        "outputId": "229a0634-2996-4697-e686-273b0721e4b5"
      },
      "execution_count": null,
      "outputs": [
        {
          "output_type": "execute_result",
          "data": {
            "text/plain": [
              "re.compile(r'\\w', )"
            ]
          },
          "metadata": {},
          "execution_count": 410
        }
      ]
    },
    {
      "cell_type": "code",
      "source": [
        "print(pattern.findall(chars),end=\" \")"
      ],
      "metadata": {
        "colab": {
          "base_uri": "https://localhost:8080/"
        },
        "id": "ZIv2y0WWsHaJ",
        "outputId": "bc9f60f5-50a5-4822-8173-d011af7f64c8"
      },
      "execution_count": null,
      "outputs": [
        {
          "output_type": "stream",
          "name": "stdout",
          "text": [
            "['0', '1', '2', '3', '4', '5', '6', '7', '8', '9', 'A', 'B', 'C', 'D', 'E', 'F', 'G', 'H', 'I', 'J', 'K', 'L', 'M', 'N', 'O', 'P', 'Q', 'R', 'S', 'T', 'U', 'V', 'W', 'X', 'Y', 'Z', '_', 'a', 'b', 'c', 'd', 'e', 'f', 'g', 'h', 'i', 'j', 'k', 'l', 'm', 'n', 'o', 'p', 'q', 'r', 's', 't', 'u', 'v', 'w', 'x', 'y', 'z'] "
          ]
        }
      ]
    },
    {
      "cell_type": "markdown",
      "source": [
        "### re.VERBOSE or re.X"
      ],
      "metadata": {
        "id": "fJzaw8XwwQTQ"
      }
    },
    {
      "cell_type": "code",
      "source": [
        "txt18='''\n",
        "This is a sample text123\n",
        "'''"
      ],
      "metadata": {
        "id": "IxyaidVwwO1h"
      },
      "execution_count": null,
      "outputs": []
    },
    {
      "cell_type": "code",
      "source": [
        "pattern=re.compile(\"\\w+\",flags=re.X)"
      ],
      "metadata": {
        "id": "KqyopgD_sHgq"
      },
      "execution_count": null,
      "outputs": []
    },
    {
      "cell_type": "code",
      "source": [
        "pattern.findall(txt18)"
      ],
      "metadata": {
        "colab": {
          "base_uri": "https://localhost:8080/"
        },
        "id": "HFapGTT1wjFU",
        "outputId": "58bcf882-f212-4c5f-b26b-b5979be5efe6"
      },
      "execution_count": null,
      "outputs": [
        {
          "output_type": "execute_result",
          "data": {
            "text/plain": [
              "['This', 'is', 'a', 'sample', 'text123']"
            ]
          },
          "metadata": {},
          "execution_count": 414
        }
      ]
    },
    {
      "cell_type": "markdown",
      "source": [
        "### re.DEBUG"
      ],
      "metadata": {
        "id": "j129J6Tgw9WY"
      }
    },
    {
      "cell_type": "code",
      "source": [
        "pattern=re.compile(\"\\b[a-e7-9]+\\b\",flags=re.DEBUG)"
      ],
      "metadata": {
        "colab": {
          "base_uri": "https://localhost:8080/"
        },
        "id": "K6o9A5D7wjKD",
        "outputId": "f60bd35a-1f5a-4f02-e341-df9d87a0643a"
      },
      "execution_count": null,
      "outputs": [
        {
          "output_type": "stream",
          "name": "stdout",
          "text": [
            "LITERAL 8\n",
            "MAX_REPEAT 1 MAXREPEAT\n",
            "  IN\n",
            "    RANGE (97, 101)\n",
            "    RANGE (55, 57)\n",
            "LITERAL 8\n",
            "\n",
            " 0. INFO 8 0b1 3 MAXREPEAT (to 9)\n",
            "      prefix_skip 1\n",
            "      prefix [0x8] ('\\x08')\n",
            "      overlap [0]\n",
            " 9: LITERAL 0x8 ('\\x08')\n",
            "11. REPEAT_ONE 13 1 MAXREPEAT (to 25)\n",
            "15.   IN 8 (to 24)\n",
            "17.     RANGE 0x61 0x65 ('a'-'e')\n",
            "20.     RANGE 0x37 0x39 ('7'-'9')\n",
            "23.     FAILURE\n",
            "24:   SUCCESS\n",
            "25: LITERAL 0x8 ('\\x08')\n",
            "27. SUCCESS\n"
          ]
        }
      ]
    },
    {
      "cell_type": "markdown",
      "source": [
        "# GROUPING"
      ],
      "metadata": {
        "id": "f6l_HSG_x_kS"
      }
    },
    {
      "cell_type": "code",
      "source": [
        "txt19='''abbbbbbabbbbbb'''"
      ],
      "metadata": {
        "id": "0S9LAeeeyDqj"
      },
      "execution_count": null,
      "outputs": []
    },
    {
      "cell_type": "code",
      "source": [
        "pattern1=re.compile(\"ab+\")\n",
        "pattern2=re.compile(\"(ab)+\")"
      ],
      "metadata": {
        "id": "rEx1xzx_yDvt"
      },
      "execution_count": null,
      "outputs": []
    },
    {
      "cell_type": "code",
      "source": [
        "pattern1.findall(txt19)"
      ],
      "metadata": {
        "colab": {
          "base_uri": "https://localhost:8080/"
        },
        "id": "p0sKSUGYyD0T",
        "outputId": "dcbb6098-733c-4874-b49c-0d59ae8b5712"
      },
      "execution_count": null,
      "outputs": [
        {
          "output_type": "execute_result",
          "data": {
            "text/plain": [
              "['abbbbbb', 'abbbbbb']"
            ]
          },
          "metadata": {},
          "execution_count": 418
        }
      ]
    },
    {
      "cell_type": "code",
      "source": [
        "pattern2.findall(txt19)"
      ],
      "metadata": {
        "colab": {
          "base_uri": "https://localhost:8080/"
        },
        "id": "KEXSit2l3ecB",
        "outputId": "e459f52b-1a82-4798-8668-ff0e0107b081"
      },
      "execution_count": null,
      "outputs": [
        {
          "output_type": "execute_result",
          "data": {
            "text/plain": [
              "['ab', 'ab']"
            ]
          },
          "metadata": {},
          "execution_count": 419
        }
      ]
    },
    {
      "cell_type": "code",
      "source": [
        "txt20='''\n",
        "my name is ram\n",
        "my name is sam\n",
        "'''"
      ],
      "metadata": {
        "id": "MgR0run23kiM"
      },
      "execution_count": null,
      "outputs": []
    },
    {
      "cell_type": "code",
      "source": [
        "pattern1=re.compile(\"my name is ram|sam\")\n",
        "pattern2=re.compile(\"(my name is (ram|sam))\")"
      ],
      "metadata": {
        "id": "cA0TtjIt3qU9"
      },
      "execution_count": null,
      "outputs": []
    },
    {
      "cell_type": "code",
      "source": [
        "pattern1.findall(txt20)"
      ],
      "metadata": {
        "colab": {
          "base_uri": "https://localhost:8080/"
        },
        "id": "pjVVlZ0f3qYt",
        "outputId": "57c2ab3c-f64b-41c9-882c-35ea567fad9c"
      },
      "execution_count": null,
      "outputs": [
        {
          "output_type": "execute_result",
          "data": {
            "text/plain": [
              "['my name is ram', 'sam']"
            ]
          },
          "metadata": {},
          "execution_count": 466
        }
      ]
    },
    {
      "cell_type": "code",
      "source": [
        "pattern2.findall(txt20)"
      ],
      "metadata": {
        "colab": {
          "base_uri": "https://localhost:8080/"
        },
        "id": "RaAr5aAJ38D5",
        "outputId": "2c54eba7-3d6e-4077-b089-564c3b80575c"
      },
      "execution_count": null,
      "outputs": [
        {
          "output_type": "execute_result",
          "data": {
            "text/plain": [
              "[('my name is ram', 'ram'), ('my name is sam', 'sam')]"
            ]
          },
          "metadata": {},
          "execution_count": 467
        }
      ]
    },
    {
      "cell_type": "code",
      "source": [
        "txt20=\"12-02-2019\""
      ],
      "metadata": {
        "id": "QvDZc3E39Qj0"
      },
      "execution_count": null,
      "outputs": []
    },
    {
      "cell_type": "code",
      "source": [
        "pattern=re.compile(\"\\d{2}-\\d{2}-\\d{2}\")"
      ],
      "metadata": {
        "id": "SVdYckO19Qpj"
      },
      "execution_count": null,
      "outputs": []
    },
    {
      "cell_type": "code",
      "source": [
        "pattern.findall(txt20)"
      ],
      "metadata": {
        "colab": {
          "base_uri": "https://localhost:8080/"
        },
        "id": "yUibTNl29Qvh",
        "outputId": "c9422828-c991-4e7d-9f25-8a86ca2d5d65"
      },
      "execution_count": null,
      "outputs": [
        {
          "output_type": "execute_result",
          "data": {
            "text/plain": [
              "['12-02-20']"
            ]
          },
          "metadata": {},
          "execution_count": 426
        }
      ]
    },
    {
      "cell_type": "code",
      "source": [
        "pattern=re.compile(\"(\\d{2})-(\\d{2})-(\\d{4})\")"
      ],
      "metadata": {
        "id": "uZgX5AWm9Q0c"
      },
      "execution_count": null,
      "outputs": []
    },
    {
      "cell_type": "code",
      "source": [
        "pattern.findall(txt20)"
      ],
      "metadata": {
        "colab": {
          "base_uri": "https://localhost:8080/"
        },
        "id": "9Sc_OXXe-Hwe",
        "outputId": "f040aad4-c269-4b23-bc88-e573e7d6069d"
      },
      "execution_count": null,
      "outputs": [
        {
          "output_type": "execute_result",
          "data": {
            "text/plain": [
              "[('12', '02', '2019')]"
            ]
          },
          "metadata": {},
          "execution_count": 428
        }
      ]
    },
    {
      "cell_type": "code",
      "source": [
        "match =pattern.match(txt20)\n",
        "match"
      ],
      "metadata": {
        "colab": {
          "base_uri": "https://localhost:8080/"
        },
        "id": "JB8ZSvUp-H0I",
        "outputId": "5e398f6e-1db2-47a1-b26b-ad2a2dcf1df2"
      },
      "execution_count": null,
      "outputs": [
        {
          "output_type": "execute_result",
          "data": {
            "text/plain": [
              "<re.Match object; span=(0, 10), match='12-02-2019'>"
            ]
          },
          "metadata": {},
          "execution_count": 429
        }
      ]
    },
    {
      "cell_type": "code",
      "source": [
        "match.group(0)"
      ],
      "metadata": {
        "colab": {
          "base_uri": "https://localhost:8080/",
          "height": 36
        },
        "id": "NifEhmz3-H32",
        "outputId": "0c696c3a-2789-4037-bca1-bdff36cc858d"
      },
      "execution_count": null,
      "outputs": [
        {
          "output_type": "execute_result",
          "data": {
            "text/plain": [
              "'12-02-2019'"
            ],
            "application/vnd.google.colaboratory.intrinsic+json": {
              "type": "string"
            }
          },
          "metadata": {},
          "execution_count": 430
        }
      ]
    },
    {
      "cell_type": "code",
      "source": [
        "match.group(1)"
      ],
      "metadata": {
        "colab": {
          "base_uri": "https://localhost:8080/",
          "height": 36
        },
        "id": "ZGwFIYkI-WM6",
        "outputId": "0b5dc844-4308-4831-f417-944e0a734bac"
      },
      "execution_count": null,
      "outputs": [
        {
          "output_type": "execute_result",
          "data": {
            "text/plain": [
              "'12'"
            ],
            "application/vnd.google.colaboratory.intrinsic+json": {
              "type": "string"
            }
          },
          "metadata": {},
          "execution_count": 431
        }
      ]
    },
    {
      "cell_type": "code",
      "source": [
        "match.group(2)"
      ],
      "metadata": {
        "colab": {
          "base_uri": "https://localhost:8080/",
          "height": 36
        },
        "id": "vJlWjClN-bOD",
        "outputId": "f79e5322-c4e2-4607-b6bd-56a3c8e4a35b"
      },
      "execution_count": null,
      "outputs": [
        {
          "output_type": "execute_result",
          "data": {
            "text/plain": [
              "'02'"
            ],
            "application/vnd.google.colaboratory.intrinsic+json": {
              "type": "string"
            }
          },
          "metadata": {},
          "execution_count": 432
        }
      ]
    },
    {
      "cell_type": "code",
      "source": [
        "match.group(3)"
      ],
      "metadata": {
        "colab": {
          "base_uri": "https://localhost:8080/",
          "height": 36
        },
        "id": "ld9317xd-ekg",
        "outputId": "e1cfc3b7-94e9-4125-e4a6-19b2775a4d23"
      },
      "execution_count": null,
      "outputs": [
        {
          "output_type": "execute_result",
          "data": {
            "text/plain": [
              "'2019'"
            ],
            "application/vnd.google.colaboratory.intrinsic+json": {
              "type": "string"
            }
          },
          "metadata": {},
          "execution_count": 433
        }
      ]
    },
    {
      "cell_type": "code",
      "source": [
        "day,month,year=match.groups()\n",
        "print(day)\n",
        "print(month)\n",
        "print(year)"
      ],
      "metadata": {
        "colab": {
          "base_uri": "https://localhost:8080/"
        },
        "id": "4nE8Aaa5-wSF",
        "outputId": "644c937a-5046-43d4-99ef-62fda025d1f5"
      },
      "execution_count": null,
      "outputs": [
        {
          "output_type": "stream",
          "name": "stdout",
          "text": [
            "12\n",
            "02\n",
            "2019\n"
          ]
        }
      ]
    },
    {
      "cell_type": "code",
      "source": [
        "txt21='''\n",
        "Name: Nikhil\n",
        "Age: 0\n",
        "Roll no .:15\n",
        "Grade: S\n",
        "Name: Ravi\n",
        "Age: -1\n",
        "Roll no .:123\n",
        "Grade: K\n",
        "Name: Ram\n",
        "Age: N/a\n",
        "Roll no .:1\n",
        "Grade: G\n",
        "'''"
      ],
      "metadata": {
        "id": "7KAmcQA__Dzy"
      },
      "execution_count": null,
      "outputs": []
    },
    {
      "cell_type": "code",
      "source": [
        "pattern=re.compile(\"Name: (\\w+)\\n\")"
      ],
      "metadata": {
        "id": "Jksl4TS4_dQC"
      },
      "execution_count": null,
      "outputs": []
    },
    {
      "cell_type": "code",
      "source": [
        "pattern.findall(txt21)"
      ],
      "metadata": {
        "colab": {
          "base_uri": "https://localhost:8080/"
        },
        "id": "rvXl9nrD_dTz",
        "outputId": "3ba2bac7-f089-4661-980c-52e1213d88bf"
      },
      "execution_count": null,
      "outputs": [
        {
          "output_type": "execute_result",
          "data": {
            "text/plain": [
              "['Nikhil', 'Ravi', 'Ram']"
            ]
          },
          "metadata": {},
          "execution_count": 437
        }
      ]
    },
    {
      "cell_type": "markdown",
      "source": [
        "# BACK REFERENCING"
      ],
      "metadata": {
        "id": "gMtUOIZm_0KK"
      }
    },
    {
      "cell_type": "code",
      "source": [
        "txt22='''\n",
        "hello hello\n",
        "how are you\n",
        "bye bye\n",
        "'''"
      ],
      "metadata": {
        "id": "NgNPqZFa_dYC"
      },
      "execution_count": null,
      "outputs": []
    },
    {
      "cell_type": "code",
      "source": [
        "print(r\"(\\w+) \\1\")"
      ],
      "metadata": {
        "colab": {
          "base_uri": "https://localhost:8080/"
        },
        "id": "-yVlOLWR_dbn",
        "outputId": "d0d18a33-6501-4ed7-9467-afeb2c6d1686"
      },
      "execution_count": null,
      "outputs": [
        {
          "output_type": "stream",
          "name": "stdout",
          "text": [
            "(\\w+) \\1\n"
          ]
        }
      ]
    },
    {
      "cell_type": "code",
      "source": [
        "pattern =re.compile(r\"(\\w+) \\1\")"
      ],
      "metadata": {
        "id": "XtB7wMQt_diE"
      },
      "execution_count": null,
      "outputs": []
    },
    {
      "cell_type": "code",
      "source": [
        "pattern.findall(txt22)"
      ],
      "metadata": {
        "colab": {
          "base_uri": "https://localhost:8080/"
        },
        "id": "oGso8qJhIv6X",
        "outputId": "68ebd742-374f-4b20-c521-389ae018e152"
      },
      "execution_count": null,
      "outputs": [
        {
          "output_type": "execute_result",
          "data": {
            "text/plain": [
              "['hello', 'bye']"
            ]
          },
          "metadata": {},
          "execution_count": 441
        }
      ]
    },
    {
      "cell_type": "code",
      "source": [
        "txt23='''\n",
        "today is 23/02/2019.\n",
        "yesterday was 22/02/2019.\n",
        "tomorrow is 24/02/2019\n",
        "'''"
      ],
      "metadata": {
        "id": "aAGgcAnjI3Sg"
      },
      "execution_count": null,
      "outputs": []
    },
    {
      "cell_type": "code",
      "source": [
        "# change the pattern from dd/mm/yyyy to yyyy-mm-dd format.\n",
        "pattern=re.compile(\"(\\d{2})\\/(\\d{2})\\/(\\d{4})\")"
      ],
      "metadata": {
        "id": "u00wQNoZI3WC"
      },
      "execution_count": null,
      "outputs": []
    },
    {
      "cell_type": "code",
      "source": [
        "pattern.findall(txt23)"
      ],
      "metadata": {
        "colab": {
          "base_uri": "https://localhost:8080/"
        },
        "id": "ztp-mEw2I3aC",
        "outputId": "9896601c-243f-46da-cef9-501b1f9919bb"
      },
      "execution_count": null,
      "outputs": [
        {
          "output_type": "execute_result",
          "data": {
            "text/plain": [
              "[('23', '02', '2019'), ('22', '02', '2019'), ('24', '02', '2019')]"
            ]
          },
          "metadata": {},
          "execution_count": 444
        }
      ]
    },
    {
      "cell_type": "code",
      "source": [
        "pattern.sub(r\"\\3-\\2-\\1\",txt23)"
      ],
      "metadata": {
        "colab": {
          "base_uri": "https://localhost:8080/",
          "height": 36
        },
        "id": "5SK_QY-dI3df",
        "outputId": "b3fb356f-1c2b-4568-f3d5-8e22e6fa4aed"
      },
      "execution_count": null,
      "outputs": [
        {
          "output_type": "execute_result",
          "data": {
            "text/plain": [
              "'\\ntoday is 2019-02-23.\\nyesterday was 2019-02-22.\\ntomorrow is 2019-02-24\\n'"
            ],
            "application/vnd.google.colaboratory.intrinsic+json": {
              "type": "string"
            }
          },
          "metadata": {},
          "execution_count": 445
        }
      ]
    },
    {
      "cell_type": "code",
      "source": [
        "print(pattern.sub(r\"\\3-\\2-\\1\",txt23))"
      ],
      "metadata": {
        "colab": {
          "base_uri": "https://localhost:8080/"
        },
        "id": "h9q7d4fWJ5PJ",
        "outputId": "e04bfaa4-a4ad-40e0-93ed-8562b58da41f"
      },
      "execution_count": null,
      "outputs": [
        {
          "output_type": "stream",
          "name": "stdout",
          "text": [
            "\n",
            "today is 2019-02-23.\n",
            "yesterday was 2019-02-22.\n",
            "tomorrow is 2019-02-24\n",
            "\n"
          ]
        }
      ]
    },
    {
      "cell_type": "markdown",
      "source": [
        "# NAMED GROUPS"
      ],
      "metadata": {
        "id": "F-qmNfFxLsd2"
      }
    },
    {
      "cell_type": "code",
      "source": [
        "txt24='''Nikhil Kumar'''"
      ],
      "metadata": {
        "id": "FzDTtbMtLlzh"
      },
      "execution_count": null,
      "outputs": []
    },
    {
      "cell_type": "code",
      "source": [
        "pattern=re.compile(\"(?P<first>\\w+) (?P<last>\\w+)\")"
      ],
      "metadata": {
        "id": "cfBCzUM0LqWN"
      },
      "execution_count": null,
      "outputs": []
    },
    {
      "cell_type": "code",
      "source": [
        "match1=pattern.match(txt24)"
      ],
      "metadata": {
        "id": "c1W5Cxv9LqbP"
      },
      "execution_count": null,
      "outputs": []
    },
    {
      "cell_type": "code",
      "source": [
        "match1.group(\"first\")"
      ],
      "metadata": {
        "colab": {
          "base_uri": "https://localhost:8080/",
          "height": 36
        },
        "id": "6Mlw0Z7YLqfO",
        "outputId": "bf61f700-7cec-4b28-bf09-4efefa2bedd3"
      },
      "execution_count": null,
      "outputs": [
        {
          "output_type": "execute_result",
          "data": {
            "text/plain": [
              "'Nikhil'"
            ],
            "application/vnd.google.colaboratory.intrinsic+json": {
              "type": "string"
            }
          },
          "metadata": {},
          "execution_count": 450
        }
      ]
    },
    {
      "cell_type": "code",
      "source": [
        "match1.group(\"last\")"
      ],
      "metadata": {
        "colab": {
          "base_uri": "https://localhost:8080/",
          "height": 36
        },
        "id": "bU0mx-YGLqix",
        "outputId": "98cdcfbf-ea71-4ad7-e260-fe81f1d8bcda"
      },
      "execution_count": null,
      "outputs": [
        {
          "output_type": "execute_result",
          "data": {
            "text/plain": [
              "'Kumar'"
            ],
            "application/vnd.google.colaboratory.intrinsic+json": {
              "type": "string"
            }
          },
          "metadata": {},
          "execution_count": 451
        }
      ]
    },
    {
      "cell_type": "code",
      "source": [
        "match1.groupdict()"
      ],
      "metadata": {
        "colab": {
          "base_uri": "https://localhost:8080/"
        },
        "id": "NFr26MQfNuhD",
        "outputId": "8678b99b-b044-4397-b9d2-828f6a1a5a18"
      },
      "execution_count": null,
      "outputs": [
        {
          "output_type": "execute_result",
          "data": {
            "text/plain": [
              "{'first': 'Nikhil', 'last': 'Kumar'}"
            ]
          },
          "metadata": {},
          "execution_count": 452
        }
      ]
    },
    {
      "cell_type": "code",
      "source": [
        "match1.groupdict()[\"first\"]"
      ],
      "metadata": {
        "colab": {
          "base_uri": "https://localhost:8080/",
          "height": 36
        },
        "id": "WndpSZ1ZOHAN",
        "outputId": "caf39111-50a3-4488-cb7a-eeec679a40ef"
      },
      "execution_count": null,
      "outputs": [
        {
          "output_type": "execute_result",
          "data": {
            "text/plain": [
              "'Nikhil'"
            ],
            "application/vnd.google.colaboratory.intrinsic+json": {
              "type": "string"
            }
          },
          "metadata": {},
          "execution_count": 453
        }
      ]
    },
    {
      "cell_type": "code",
      "source": [
        "pattern.sub(r\"\\g<last> \\g<first>\",txt24)"
      ],
      "metadata": {
        "colab": {
          "base_uri": "https://localhost:8080/",
          "height": 36
        },
        "id": "Xu-RnnygMOn_",
        "outputId": "2881e18a-58c6-4198-c205-d4ba368243e6"
      },
      "execution_count": null,
      "outputs": [
        {
          "output_type": "execute_result",
          "data": {
            "text/plain": [
              "'Kumar Nikhil'"
            ],
            "application/vnd.google.colaboratory.intrinsic+json": {
              "type": "string"
            }
          },
          "metadata": {},
          "execution_count": 454
        }
      ]
    },
    {
      "cell_type": "code",
      "source": [
        "txt25='''jhonson Jhonson'''"
      ],
      "metadata": {
        "id": "FTinm1gHMOsn"
      },
      "execution_count": null,
      "outputs": []
    },
    {
      "cell_type": "code",
      "source": [
        "pattern=re.compile(\"(?P<first>\\w+) (?P=first)\")"
      ],
      "metadata": {
        "id": "jQYZ1IOqMOwh"
      },
      "execution_count": null,
      "outputs": []
    },
    {
      "cell_type": "code",
      "source": [
        "match=pattern.match(txt25)"
      ],
      "metadata": {
        "id": "mHUbN0DOMO1M"
      },
      "execution_count": null,
      "outputs": []
    },
    {
      "cell_type": "code",
      "source": [
        "match"
      ],
      "metadata": {
        "id": "BztutolHNE19"
      },
      "execution_count": null,
      "outputs": []
    },
    {
      "cell_type": "markdown",
      "source": [
        "# NON CAPTURING GROUPS"
      ],
      "metadata": {
        "id": "NPFpaTQ5OMX7"
      }
    },
    {
      "cell_type": "code",
      "source": [
        "txt27='''\n",
        "i love cats\n",
        "i love dogs\n",
        "'''"
      ],
      "metadata": {
        "id": "1MqrUAAFNQ-S"
      },
      "execution_count": null,
      "outputs": []
    },
    {
      "cell_type": "code",
      "source": [
        "pattern=re.compile(\"i love (cats|dogs)\")"
      ],
      "metadata": {
        "id": "jeEgXEVNSZM9"
      },
      "execution_count": null,
      "outputs": []
    },
    {
      "cell_type": "code",
      "source": [
        "pattern.findall(txt27)"
      ],
      "metadata": {
        "colab": {
          "base_uri": "https://localhost:8080/"
        },
        "id": "573mwKS-SZTS",
        "outputId": "804afef9-5b59-4e88-9cf3-0593d7dff239"
      },
      "execution_count": null,
      "outputs": [
        {
          "output_type": "execute_result",
          "data": {
            "text/plain": [
              "['cats', 'dogs']"
            ]
          },
          "metadata": {},
          "execution_count": 469
        }
      ]
    },
    {
      "cell_type": "code",
      "source": [
        "for match in pattern.finditer(txt27):\n",
        "  print(\"Complete regex :\",match.group(0))\n",
        "  print(\"Match capture :\",match.group(1))"
      ],
      "metadata": {
        "colab": {
          "base_uri": "https://localhost:8080/"
        },
        "id": "MgxvYIZwSZZS",
        "outputId": "4e347425-8ee1-4217-9d96-5c7bbc2d8ae7"
      },
      "execution_count": null,
      "outputs": [
        {
          "output_type": "stream",
          "name": "stdout",
          "text": [
            "Complete regex : i love cats\n",
            "Match capture : cats\n",
            "Complete regex : i love dogs\n",
            "Match capture : dogs\n"
          ]
        }
      ]
    },
    {
      "cell_type": "code",
      "source": [
        "pattern=re.compile(\"i love (?:cats|dogs)\")"
      ],
      "metadata": {
        "id": "DasLq5opTz-S"
      },
      "execution_count": null,
      "outputs": []
    },
    {
      "cell_type": "code",
      "source": [
        "pattern.findall(txt27)"
      ],
      "metadata": {
        "colab": {
          "base_uri": "https://localhost:8080/"
        },
        "id": "LcHS0I-CUBAI",
        "outputId": "29723b8e-0ea3-487b-8b20-252a985b71be"
      },
      "execution_count": null,
      "outputs": [
        {
          "output_type": "execute_result",
          "data": {
            "text/plain": [
              "['i love cats', 'i love dogs']"
            ]
          },
          "metadata": {},
          "execution_count": 473
        }
      ]
    },
    {
      "cell_type": "code",
      "source": [
        "for match in pattern.finditer(txt27):\n",
        "  print(match)\n",
        "  print(match.group(0))"
      ],
      "metadata": {
        "colab": {
          "base_uri": "https://localhost:8080/"
        },
        "id": "VZtHvsPxULd5",
        "outputId": "2698748e-a3a4-4cda-b104-11bc4ed2939e"
      },
      "execution_count": null,
      "outputs": [
        {
          "output_type": "stream",
          "name": "stdout",
          "text": [
            "<re.Match object; span=(1, 12), match='i love cats'>\n",
            "i love cats\n",
            "<re.Match object; span=(13, 24), match='i love dogs'>\n",
            "i love dogs\n"
          ]
        }
      ]
    },
    {
      "cell_type": "markdown",
      "source": [
        "# LOOK AHEAD"
      ],
      "metadata": {
        "id": "F9CErWlyUh6h"
      }
    },
    {
      "cell_type": "code",
      "source": [
        "txt28=\"red green blue\""
      ],
      "metadata": {
        "id": "jkuGrT1NULh-"
      },
      "execution_count": null,
      "outputs": []
    },
    {
      "cell_type": "code",
      "source": [
        "pattern=re.compile(r\"\\bgreen\\b\")"
      ],
      "metadata": {
        "id": "7F-oDqNCULnK"
      },
      "execution_count": null,
      "outputs": []
    },
    {
      "cell_type": "code",
      "source": [
        "pattern.findall(txt28)"
      ],
      "metadata": {
        "colab": {
          "base_uri": "https://localhost:8080/"
        },
        "id": "RSmckWkgVa0V",
        "outputId": "71ea08b9-4312-465d-bff1-9e2cd1253001"
      },
      "execution_count": null,
      "outputs": [
        {
          "output_type": "execute_result",
          "data": {
            "text/plain": [
              "['green']"
            ]
          },
          "metadata": {},
          "execution_count": 479
        }
      ]
    },
    {
      "cell_type": "markdown",
      "source": [
        "## ZERO WIDTH ASSESRTIONS"
      ],
      "metadata": {
        "id": "V_r70xA1VkYg"
      }
    },
    {
      "cell_type": "markdown",
      "source": [
        "## LOOK AROUND ---> Positive Look Ahead"
      ],
      "metadata": {
        "id": "P9rB0qhTWeAl"
      }
    },
    {
      "cell_type": "code",
      "source": [
        "txt29=\"i love python, i love regex\""
      ],
      "metadata": {
        "id": "JvpgZ4GWVa6G"
      },
      "execution_count": null,
      "outputs": []
    },
    {
      "cell_type": "code",
      "source": [
        "pattern=re.compile('love regex')"
      ],
      "metadata": {
        "id": "d5qXB9OCVa-T"
      },
      "execution_count": null,
      "outputs": []
    },
    {
      "cell_type": "code",
      "source": [
        "match = pattern.search(txt29)"
      ],
      "metadata": {
        "id": "Fci4GZrqW9Zo"
      },
      "execution_count": null,
      "outputs": []
    },
    {
      "cell_type": "code",
      "source": [
        "match.span()"
      ],
      "metadata": {
        "colab": {
          "base_uri": "https://localhost:8080/"
        },
        "id": "4NJ9gaPZW9eE",
        "outputId": "c3a0bd90-58f7-468d-b7ef-d1724cfb37fd"
      },
      "execution_count": null,
      "outputs": [
        {
          "output_type": "execute_result",
          "data": {
            "text/plain": [
              "(17, 27)"
            ]
          },
          "metadata": {},
          "execution_count": 483
        }
      ]
    },
    {
      "cell_type": "code",
      "source": [
        "pattern.findall(txt29)"
      ],
      "metadata": {
        "colab": {
          "base_uri": "https://localhost:8080/"
        },
        "id": "0bBSmpSjW9kn",
        "outputId": "d3041a67-47da-4b32-b4d1-88455d89ae1a"
      },
      "execution_count": null,
      "outputs": [
        {
          "output_type": "execute_result",
          "data": {
            "text/plain": [
              "['love regex']"
            ]
          },
          "metadata": {},
          "execution_count": 484
        }
      ]
    },
    {
      "cell_type": "code",
      "source": [
        "pattern=re.compile('love(?=\\sregex)')"
      ],
      "metadata": {
        "id": "hcnElI_0W9o5"
      },
      "execution_count": null,
      "outputs": []
    },
    {
      "cell_type": "code",
      "source": [
        "match = pattern.search(txt29)"
      ],
      "metadata": {
        "id": "sDy88s3dW9y3"
      },
      "execution_count": null,
      "outputs": []
    },
    {
      "cell_type": "code",
      "source": [
        "pattern.findall(txt29) # we wanted to find a match love where it is followed by regex"
      ],
      "metadata": {
        "colab": {
          "base_uri": "https://localhost:8080/"
        },
        "id": "Vw500hELXpTM",
        "outputId": "ef26b20b-17ad-498b-b929-7ae64e706ce5"
      },
      "execution_count": null,
      "outputs": [
        {
          "output_type": "execute_result",
          "data": {
            "text/plain": [
              "['love']"
            ]
          },
          "metadata": {},
          "execution_count": 490
        }
      ]
    },
    {
      "cell_type": "code",
      "source": [
        "txt30=\" my favourite colors are green, blue, and ferosy.\""
      ],
      "metadata": {
        "id": "62ZdEDc4X2Ze"
      },
      "execution_count": null,
      "outputs": []
    },
    {
      "cell_type": "code",
      "source": [
        "pattern=re.compile(\"\\w+(?=,|\\.)\")"
      ],
      "metadata": {
        "id": "MZ_xvFruX2fe"
      },
      "execution_count": null,
      "outputs": []
    },
    {
      "cell_type": "code",
      "source": [
        "pattern.findall(txt30)"
      ],
      "metadata": {
        "colab": {
          "base_uri": "https://localhost:8080/"
        },
        "id": "qvckDo8oX2jT",
        "outputId": "d36fe98c-c46c-47ac-e311-9f3899e638fd"
      },
      "execution_count": null,
      "outputs": [
        {
          "output_type": "execute_result",
          "data": {
            "text/plain": [
              "['green', 'blue', 'ferosy']"
            ]
          },
          "metadata": {},
          "execution_count": 496
        }
      ]
    },
    {
      "cell_type": "markdown",
      "source": [
        "### Negative Look Ahead"
      ],
      "metadata": {
        "id": "HxAxZ0-yYueQ"
      }
    },
    {
      "cell_type": "code",
      "source": [
        "txt29"
      ],
      "metadata": {
        "colab": {
          "base_uri": "https://localhost:8080/",
          "height": 36
        },
        "id": "9QwOzaMAX2ow",
        "outputId": "e0272143-acff-40eb-bf9d-f82243fed3d1"
      },
      "execution_count": null,
      "outputs": [
        {
          "output_type": "execute_result",
          "data": {
            "text/plain": [
              "'i love python, i love regex'"
            ],
            "application/vnd.google.colaboratory.intrinsic+json": {
              "type": "string"
            }
          },
          "metadata": {},
          "execution_count": 497
        }
      ]
    },
    {
      "cell_type": "code",
      "source": [
        "pattern=re.compile(\"love(?!\\sregex)\")"
      ],
      "metadata": {
        "id": "7uuepWHeaD_5"
      },
      "execution_count": null,
      "outputs": []
    },
    {
      "cell_type": "code",
      "source": [
        "pattern.findall(txt29)"
      ],
      "metadata": {
        "colab": {
          "base_uri": "https://localhost:8080/"
        },
        "id": "KXfiy4GGaEGH",
        "outputId": "34029ee4-c763-4c4e-a88d-512da3b05fa9"
      },
      "execution_count": null,
      "outputs": [
        {
          "output_type": "execute_result",
          "data": {
            "text/plain": [
              "['python']"
            ]
          },
          "metadata": {},
          "execution_count": 500
        }
      ]
    },
    {
      "cell_type": "markdown",
      "source": [
        "# LOOK BEHIND"
      ],
      "metadata": {
        "id": "zfaYBPjjahrb"
      }
    },
    {
      "cell_type": "markdown",
      "source": [
        "### Positive Look behind"
      ],
      "metadata": {
        "id": "O0gMvYfga8NA"
      }
    },
    {
      "cell_type": "code",
      "source": [
        "txt31=\"love regex or hate regex, can't ignore regex\""
      ],
      "metadata": {
        "id": "f13P1KT2aovO"
      },
      "execution_count": null,
      "outputs": []
    },
    {
      "cell_type": "code",
      "source": [
        "pattern=re.compile(\"(?=(love|hate)\\s) regex\")"
      ],
      "metadata": {
        "id": "d7Yb5v62aozh"
      },
      "execution_count": null,
      "outputs": []
    },
    {
      "cell_type": "code",
      "source": [
        "pattern.findall(txt31)"
      ],
      "metadata": {
        "colab": {
          "base_uri": "https://localhost:8080/"
        },
        "id": "8BgEZwZCao5C",
        "outputId": "d2730a77-6c9c-4ed6-d36a-22fad4acbd85"
      },
      "execution_count": null,
      "outputs": [
        {
          "output_type": "execute_result",
          "data": {
            "text/plain": [
              "[]"
            ]
          },
          "metadata": {},
          "execution_count": 531
        }
      ]
    },
    {
      "cell_type": "code",
      "source": [
        "pattern=re.compile(\"(?<!(love|hate)\\s)regex\")"
      ],
      "metadata": {
        "id": "x_RCmebYao8-"
      },
      "execution_count": null,
      "outputs": []
    },
    {
      "cell_type": "code",
      "source": [
        "pattern.findall(txt31)"
      ],
      "metadata": {
        "colab": {
          "base_uri": "https://localhost:8080/"
        },
        "id": "KjgwA_7UapB6",
        "outputId": "a10b3cb0-9fab-406b-a538-e6387a6b240f"
      },
      "execution_count": null,
      "outputs": [
        {
          "output_type": "execute_result",
          "data": {
            "text/plain": [
              "['']"
            ]
          },
          "metadata": {},
          "execution_count": 528
        }
      ]
    },
    {
      "cell_type": "code",
      "source": [],
      "metadata": {
        "id": "eT5ak3ZlapHF"
      },
      "execution_count": null,
      "outputs": []
    },
    {
      "cell_type": "code",
      "source": [],
      "metadata": {
        "id": "8AxCIY53apMG"
      },
      "execution_count": null,
      "outputs": []
    },
    {
      "cell_type": "code",
      "source": [],
      "metadata": {
        "id": "ok-xHjwYapQr"
      },
      "execution_count": null,
      "outputs": []
    }
  ]
}